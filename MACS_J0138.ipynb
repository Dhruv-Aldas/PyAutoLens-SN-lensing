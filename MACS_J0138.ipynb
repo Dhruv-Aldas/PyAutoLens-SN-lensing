{
 "cells": [
  {
   "cell_type": "code",
   "execution_count": 1,
   "id": "08d9c509-b6fe-4fea-a619-2fba37cbcf64",
   "metadata": {
    "tags": []
   },
   "outputs": [
    {
     "name": "stdout",
     "output_type": "stream",
     "text": [
      "16\n"
     ]
    }
   ],
   "source": [
    "import autofit as af\n",
    "import autolens as al\n",
    "import autolens.plot as aplt\n",
    "import multiprocessing\n",
    "\n",
    "print(multiprocessing.cpu_count())"
   ]
  },
  {
   "cell_type": "code",
   "execution_count": 2,
   "id": "508f9979-9b79-4cf3-9033-5f9b8e712cc7",
   "metadata": {},
   "outputs": [
    {
     "name": "stdout",
     "output_type": "stream",
     "text": [
      "Total Free Parameters = 22\n",
      "\n",
      "model                                                                           Collection (N=22)\n",
      "    galaxies                                                                    Collection (N=22)\n",
      "        lens_0                                                                  Galaxy (N=4)\n",
      "            mass                                                                NFW (N=4)\n",
      "        lens_1                                                                  Galaxy (N=4)\n",
      "            mass                                                                NFW (N=4)\n",
      "        lens_2                                                                  Galaxy (N=4)\n",
      "            mass                                                                NFW (N=4)\n",
      "        lens_3                                                                  Galaxy (N=4)\n",
      "            mass                                                                NFW (N=4)\n",
      "        source_0                                                                Galaxy (N=2)\n",
      "            H                                                                   PointSourceChi (N=2)\n",
      "        source_1                                                                Galaxy (N=2)\n",
      "            SN                                                                  PointSourceChi (N=2)\n",
      "        source_2                                                                Galaxy (N=2)\n",
      "            s3                                                                  PointSourceChi (N=2)\n",
      "\n",
      "galaxies\n",
      "    lens_0\n",
      "        redshift                                                                0.338\n",
      "        mass\n",
      "            centre\n",
      "                centre_0                                                        0.0\n",
      "                centre_1                                                        0.0\n",
      "            ell_comps\n",
      "                ell_comps_0                                                     GaussianPrior [3], mean = 0.0, sigma = 0.3\n",
      "                ell_comps_1                                                     GaussianPrior [4], mean = 0.0, sigma = 0.3\n",
      "            kappa_s                                                             UniformPrior [5], lower_limit = 0.0, upper_limit = 1.0\n",
      "            scale_radius                                                        UniformPrior [6], lower_limit = 0.0, upper_limit = 30.0\n",
      "    lens_1\n",
      "        redshift                                                                0.338\n",
      "        mass\n",
      "            centre\n",
      "                centre_0                                                        0.87\n",
      "                centre_1                                                        -16.42\n",
      "            ell_comps\n",
      "                ell_comps_0                                                     GaussianPrior [9], mean = 0.0, sigma = 0.3\n",
      "                ell_comps_1                                                     GaussianPrior [10], mean = 0.0, sigma = 0.3\n",
      "            kappa_s                                                             UniformPrior [11], lower_limit = 0.0, upper_limit = 1.0\n",
      "            scale_radius                                                        UniformPrior [12], lower_limit = 0.0, upper_limit = 30.0\n",
      "    lens_2\n",
      "        redshift                                                                0.338\n",
      "        mass\n",
      "            centre\n",
      "                centre_0                                                        -19.15\n",
      "                centre_1                                                        -13.37\n",
      "            ell_comps\n",
      "                ell_comps_0                                                     GaussianPrior [15], mean = 0.0, sigma = 0.3\n",
      "                ell_comps_1                                                     GaussianPrior [16], mean = 0.0, sigma = 0.3\n",
      "            kappa_s                                                             UniformPrior [17], lower_limit = 0.0, upper_limit = 1.0\n",
      "            scale_radius                                                        UniformPrior [18], lower_limit = 0.0, upper_limit = 30.0\n",
      "    lens_3\n",
      "        redshift                                                                0.338\n",
      "        mass\n",
      "            centre\n",
      "                centre_0                                                        5.12\n",
      "                centre_1                                                        7.07\n",
      "            ell_comps\n",
      "                ell_comps_0                                                     GaussianPrior [21], mean = 0.0, sigma = 0.3\n",
      "                ell_comps_1                                                     GaussianPrior [22], mean = 0.0, sigma = 0.3\n",
      "            kappa_s                                                             UniformPrior [23], lower_limit = 0.0, upper_limit = 1.0\n",
      "            scale_radius                                                        UniformPrior [24], lower_limit = 0.0, upper_limit = 30.0\n",
      "    source_0\n",
      "        redshift                                                                1.95\n",
      "        H\n",
      "            centre\n",
      "                centre_0                                                        GaussianPrior [25], mean = 0.0, sigma = 0.3\n",
      "                centre_1                                                        GaussianPrior [26], mean = 0.0, sigma = 0.3\n",
      "    source_1\n",
      "        redshift                                                                1.95\n",
      "        SN\n",
      "            centre\n",
      "                centre_0                                                        GaussianPrior [27], mean = 0.0, sigma = 0.3\n",
      "                centre_1                                                        GaussianPrior [28], mean = 0.0, sigma = 0.3\n",
      "    source_2\n",
      "        redshift                                                                0.7663\n",
      "        s3\n",
      "            centre\n",
      "                centre_0                                                        GaussianPrior [29], mean = 0.0, sigma = 0.3\n",
      "                centre_1                                                        GaussianPrior [30], mean = 0.0, sigma = 0.3\n"
     ]
    }
   ],
   "source": [
    "# grid\n",
    "grid = al.Grid2D.uniform(\n",
    "    shape_native=(50, 50),\n",
    "    pixel_scales=0.05,\n",
    ")\n",
    "\n",
    "# lens\n",
    "\n",
    "BCG_mass = af.Model(al.mp.NFW)\n",
    "BCG_mass.centre_0 = 0.0\n",
    "BCG_mass.centre_1 = 0.0\n",
    "BCG = af.Model(al.Galaxy, redshift=0.338, mass=BCG_mass)\n",
    "\n",
    "P1_mass = af.Model(al.mp.NFW)\n",
    "P1_mass.centre_0 = 0.87\n",
    "P1_mass.centre_1 = -16.42\n",
    "P1 = af.Model(al.Galaxy, redshift=0.338, mass=P1_mass)\n",
    "\n",
    "P2_mass = af.Model(al.mp.NFW)\n",
    "P2_mass.centre_0 = -19.15\n",
    "P2_mass.centre_1 = -13.37\n",
    "P2 = af.Model(al.Galaxy, redshift=0.338, mass=P2_mass)\n",
    "\n",
    "P3_mass = af.Model(al.mp.NFW)\n",
    "P3_mass.centre_0 = 5.12\n",
    "P3_mass.centre_1 = 7.07\n",
    "P3 = af.Model(al.Galaxy, redshift=0.338, mass=P3_mass)\n",
    "\n",
    "lens_sys = af.Collection(lens_0=BCG, lens_1=P1,lens_2=P2, lens_3=P3)\n",
    "\n",
    "#sources - image plane - https://pyautolens.readthedocs.io/en/latest/overview/overview_8_point_sources.html\n",
    "\n",
    "point_ds_H = al.PointDataset(\n",
    "                name='H',\n",
    "                positions=al.Grid2DIrregular([[-19.38, -1.74], [-8.33, -15.74], [2.37, -17.23], [6.37, 7.87]]),\n",
    "                positions_noise_map=al.ArrayIrregular([0.05, 0.05, 0.05, 0.05]),\n",
    "                )\n",
    "\n",
    "point_ds_SN = al.PointDataset(\n",
    "                name='SN',\n",
    "                positions=al.Grid2DIrregular([[-1.93, -18.49], [-11.30, -15.32], [-18.80, -6.52]]),\n",
    "                positions_noise_map=al.ArrayIrregular([0.05, 0.05, 0.05]),\n",
    "                )\n",
    "\n",
    "point_ds_3 = al.PointDataset(\n",
    "                name='s3',\n",
    "                positions=al.Grid2DIrregular([[4.22, 7.38], [-2.00, 8.60], [9.13, -3.22], [-3.41, -2.06]]),\n",
    "                positions_noise_map=al.ArrayIrregular([0.05, 0.05, 0.05, 0.05]),\n",
    "                )\n",
    "\n",
    "point_dict = al.PointDict(point_dataset_list=[point_ds_H, point_ds_SN, point_ds_3])\n",
    "\n",
    "# print(point_dict)\n",
    "\n",
    "#sources - source plane\n",
    "\n",
    "source_0 = af.Model(al.Galaxy, redshift=1.95, H=af.Model(al.ps.PointSourceChi))\n",
    "\n",
    "source_1 = af.Model(al.Galaxy, redshift=1.95, SN=af.Model(al.ps.PointSourceChi))\n",
    "\n",
    "source_2 = af.Model(al.Galaxy, redshift=0.7663, s3=af.Model(al.ps.PointSourceChi))\n",
    "\n",
    "source_sys = af.Collection(source_0=source_0, source_1=source_1, source_2=source_2)\n",
    "\n",
    "clusters = lens_sys + source_sys\n",
    "\n",
    "model = af.Collection(galaxies=clusters)\n",
    "\n",
    "print(model.info)"
   ]
  },
  {
   "cell_type": "code",
   "execution_count": 3,
   "id": "8aa5596b-9ac9-489a-accb-4cf8c4df5235",
   "metadata": {},
   "outputs": [
    {
     "data": {
      "image/png": "[encoded data removed]",
      "text/plain": [
       "<Figure size 864x864 with 3 Axes>"
      ]
     },
     "metadata": {
      "needs_background": "light"
     },
     "output_type": "display_data"
    }
   ],
   "source": [
    "point_dict_plotter = aplt.PointDictPlotter(point_dict=point_dict)\n",
    "point_dict_plotter.subplot_positions()"
   ]
  },
  {
   "cell_type": "code",
   "execution_count": 4,
   "id": "f91efb7a-a4a1-4c72-9169-8446d0469269",
   "metadata": {
    "tags": []
   },
   "outputs": [
    {
     "name": "stdout",
     "output_type": "stream",
     "text": [
      "0.05\n",
      "Log Likelihood Evaluation Time (second) = 0.024999618530273438\n",
      "2023-09-17 21:56:36,569 - autofit.non_linear.abstract_search - INFO - Creating search\n",
      "2023-09-17 21:56:36,571 - root - INFO - Starting search\n",
      "2023-09-17 21:56:36,573 - root - INFO - Saving path info\n",
      "2023-09-17 21:56:36,573 - root - INFO - Not complete. Starting non-linear search.\n",
      "2023-09-17 21:56:36,575 - root - INFO - No Dynesty samples found, beginning new non-linear search. \n",
      "2023-09-17 21:56:36,643 - autofit.non_linear.initializer - INFO - Generating initial samples of model, which are subject to prior limits and other constraints.\n"
     ]
    },
    {
     "name": "stderr",
     "output_type": "stream",
     "text": [
      "836it [01:39,  8.40it/s, +50 | bound: 90 | nc: 1 | ncall: 5103 | eff(%): 17.534 | loglstar:   -inf < -16393.084 <    inf | logz: -16414.496 +/-  0.608 | dlogz:  1.099 >  0.059]\n"
     ]
    },
    {
     "ename": "FileExistsError",
     "evalue": "[WinError 183] Cannot create a file when that file already exists: 'C:\\\\Users\\\\Dhruv\\\\AppData\\\\Local\\\\Temp\\\\tmp3gq0e4ol\\\\savestate.save.tmp' -> 'C:\\\\Users\\\\Dhruv\\\\AppData\\\\Local\\\\Temp\\\\tmp3gq0e4ol\\\\savestate.save'",
     "output_type": "error",
     "traceback": [
      "\u001b[1;31m---------------------------------------------------------------------------\u001b[0m",
      "\u001b[1;31mFileExistsError\u001b[0m                           Traceback (most recent call last)",
      "\u001b[1;32m<ipython-input-4-084e165d7943>\u001b[0m in \u001b[0;36m<module>\u001b[1;34m\u001b[0m\n\u001b[0;32m     19\u001b[0m \u001b[0msearch\u001b[0m \u001b[1;33m=\u001b[0m \u001b[0maf\u001b[0m\u001b[1;33m.\u001b[0m\u001b[0mDynestyStatic\u001b[0m\u001b[1;33m(\u001b[0m\u001b[0mnumber_of_cores\u001b[0m\u001b[1;33m=\u001b[0m\u001b[1;36m1\u001b[0m\u001b[1;33m)\u001b[0m\u001b[1;33m\u001b[0m\u001b[1;33m\u001b[0m\u001b[0m\n\u001b[0;32m     20\u001b[0m \u001b[1;33m\u001b[0m\u001b[0m\n\u001b[1;32m---> 21\u001b[1;33m \u001b[0mresult\u001b[0m \u001b[1;33m=\u001b[0m \u001b[0msearch\u001b[0m\u001b[1;33m.\u001b[0m\u001b[0mfit\u001b[0m\u001b[1;33m(\u001b[0m\u001b[0mmodel\u001b[0m\u001b[1;33m=\u001b[0m\u001b[0mmodel\u001b[0m\u001b[1;33m,\u001b[0m \u001b[0manalysis\u001b[0m\u001b[1;33m=\u001b[0m\u001b[0manalysis\u001b[0m\u001b[1;33m)\u001b[0m\u001b[1;33m\u001b[0m\u001b[1;33m\u001b[0m\u001b[0m\n\u001b[0m",
      "\u001b[1;32m~\\anaconda3\\lib\\site-packages\\autofit\\non_linear\\abstract_search.py\u001b[0m in \u001b[0;36mfit\u001b[1;34m(self, model, analysis, info, pickle_files, log_likelihood_cap, bypass_nuclear_if_on)\u001b[0m\n\u001b[0;32m    607\u001b[0m \u001b[1;33m\u001b[0m\u001b[0m\n\u001b[0;32m    608\u001b[0m             \u001b[0mmodel\u001b[0m\u001b[1;33m.\u001b[0m\u001b[0mfreeze\u001b[0m\u001b[1;33m(\u001b[0m\u001b[1;33m)\u001b[0m\u001b[1;33m\u001b[0m\u001b[1;33m\u001b[0m\u001b[0m\n\u001b[1;32m--> 609\u001b[1;33m             self._fit(\n\u001b[0m\u001b[0;32m    610\u001b[0m                 \u001b[0mmodel\u001b[0m\u001b[1;33m=\u001b[0m\u001b[0mmodel\u001b[0m\u001b[1;33m,\u001b[0m \u001b[0manalysis\u001b[0m\u001b[1;33m=\u001b[0m\u001b[0manalysis\u001b[0m\u001b[1;33m,\u001b[0m \u001b[0mlog_likelihood_cap\u001b[0m\u001b[1;33m=\u001b[0m\u001b[0mlog_likelihood_cap\u001b[0m\u001b[1;33m\u001b[0m\u001b[1;33m\u001b[0m\u001b[0m\n\u001b[0;32m    611\u001b[0m             )\n",
      "\u001b[1;32m~\\anaconda3\\lib\\site-packages\\autofit\\non_linear\\nest\\dynesty\\abstract.py\u001b[0m in \u001b[0;36m_fit\u001b[1;34m(self, model, analysis, log_likelihood_cap)\u001b[0m\n\u001b[0;32m    182\u001b[0m                     )\n\u001b[0;32m    183\u001b[0m \u001b[1;33m\u001b[0m\u001b[0m\n\u001b[1;32m--> 184\u001b[1;33m                     \u001b[0mfinished\u001b[0m \u001b[1;33m=\u001b[0m \u001b[0mself\u001b[0m\u001b[1;33m.\u001b[0m\u001b[0mrun_sampler\u001b[0m\u001b[1;33m(\u001b[0m\u001b[0msampler\u001b[0m\u001b[1;33m=\u001b[0m\u001b[0msampler\u001b[0m\u001b[1;33m)\u001b[0m\u001b[1;33m\u001b[0m\u001b[1;33m\u001b[0m\u001b[0m\n\u001b[0m\u001b[0;32m    185\u001b[0m \u001b[1;33m\u001b[0m\u001b[0m\n\u001b[0;32m    186\u001b[0m             \u001b[1;32mexcept\u001b[0m \u001b[0mRuntimeError\u001b[0m\u001b[1;33m:\u001b[0m\u001b[1;33m\u001b[0m\u001b[1;33m\u001b[0m\u001b[0m\n",
      "\u001b[1;32m~\\anaconda3\\lib\\site-packages\\autofit\\non_linear\\nest\\dynesty\\abstract.py\u001b[0m in \u001b[0;36mrun_sampler\u001b[1;34m(self, sampler)\u001b[0m\n\u001b[0;32m    268\u001b[0m \u001b[1;33m\u001b[0m\u001b[0m\n\u001b[0;32m    269\u001b[0m         \u001b[1;32mif\u001b[0m \u001b[0miterations\u001b[0m \u001b[1;33m>\u001b[0m \u001b[1;36m0\u001b[0m\u001b[1;33m:\u001b[0m\u001b[1;33m\u001b[0m\u001b[1;33m\u001b[0m\u001b[0m\n\u001b[1;32m--> 270\u001b[1;33m             sampler.run_nested(\n\u001b[0m\u001b[0;32m    271\u001b[0m                 \u001b[0mmaxcall\u001b[0m\u001b[1;33m=\u001b[0m\u001b[0miterations\u001b[0m\u001b[1;33m,\u001b[0m\u001b[1;33m\u001b[0m\u001b[1;33m\u001b[0m\u001b[0m\n\u001b[0;32m    272\u001b[0m                 \u001b[0mprint_progress\u001b[0m\u001b[1;33m=\u001b[0m\u001b[1;32mnot\u001b[0m \u001b[0mself\u001b[0m\u001b[1;33m.\u001b[0m\u001b[0msilence\u001b[0m\u001b[1;33m,\u001b[0m\u001b[1;33m\u001b[0m\u001b[1;33m\u001b[0m\u001b[0m\n",
      "\u001b[1;32m~\\anaconda3\\lib\\site-packages\\dynesty\\sampler.py\u001b[0m in \u001b[0;36mrun_nested\u001b[1;34m(self, maxiter, maxcall, dlogz, logl_max, n_effective, add_live, print_progress, print_func, save_bounds, checkpoint_file, checkpoint_every, resume)\u001b[0m\n\u001b[0;32m   1063\u001b[0m             \u001b[1;32mif\u001b[0m \u001b[0mcheckpoint_file\u001b[0m \u001b[1;32mis\u001b[0m \u001b[1;32mnot\u001b[0m \u001b[1;32mNone\u001b[0m\u001b[1;33m:\u001b[0m\u001b[1;33m\u001b[0m\u001b[1;33m\u001b[0m\u001b[0m\n\u001b[0;32m   1064\u001b[0m                 \u001b[1;31m# I don't check the time timer here\u001b[0m\u001b[1;33m\u001b[0m\u001b[1;33m\u001b[0m\u001b[1;33m\u001b[0m\u001b[0m\n\u001b[1;32m-> 1065\u001b[1;33m                 \u001b[0mself\u001b[0m\u001b[1;33m.\u001b[0m\u001b[0msave\u001b[0m\u001b[1;33m(\u001b[0m\u001b[0mcheckpoint_file\u001b[0m\u001b[1;33m)\u001b[0m\u001b[1;33m\u001b[0m\u001b[1;33m\u001b[0m\u001b[0m\n\u001b[0m\u001b[0;32m   1066\u001b[0m \u001b[1;33m\u001b[0m\u001b[0m\n\u001b[0;32m   1067\u001b[0m         \u001b[1;32mfinally\u001b[0m\u001b[1;33m:\u001b[0m\u001b[1;33m\u001b[0m\u001b[1;33m\u001b[0m\u001b[0m\n",
      "\u001b[1;32m~\\anaconda3\\lib\\site-packages\\dynesty\\nestedsamplers.py\u001b[0m in \u001b[0;36msave\u001b[1;34m(self, fname)\u001b[0m\n\u001b[0;32m    260\u001b[0m \u001b[1;33m\u001b[0m\u001b[0m\n\u001b[0;32m    261\u001b[0m         \"\"\"\n\u001b[1;32m--> 262\u001b[1;33m         \u001b[0msave_sampler\u001b[0m\u001b[1;33m(\u001b[0m\u001b[0mself\u001b[0m\u001b[1;33m,\u001b[0m \u001b[0mfname\u001b[0m\u001b[1;33m)\u001b[0m\u001b[1;33m\u001b[0m\u001b[1;33m\u001b[0m\u001b[0m\n\u001b[0m\u001b[0;32m    263\u001b[0m \u001b[1;33m\u001b[0m\u001b[0m\n\u001b[0;32m    264\u001b[0m     \u001b[1;33m@\u001b[0m\u001b[0mstaticmethod\u001b[0m\u001b[1;33m\u001b[0m\u001b[1;33m\u001b[0m\u001b[0m\n",
      "\u001b[1;32m~\\anaconda3\\lib\\site-packages\\dynesty\\utils.py\u001b[0m in \u001b[0;36msave_sampler\u001b[1;34m(sampler, fname)\u001b[0m\n\u001b[0;32m   2324\u001b[0m         \u001b[1;32mwith\u001b[0m \u001b[0mopen\u001b[0m\u001b[1;33m(\u001b[0m\u001b[0mtmp_fname\u001b[0m\u001b[1;33m,\u001b[0m \u001b[1;34m'wb'\u001b[0m\u001b[1;33m)\u001b[0m \u001b[1;32mas\u001b[0m \u001b[0mfp\u001b[0m\u001b[1;33m:\u001b[0m\u001b[1;33m\u001b[0m\u001b[1;33m\u001b[0m\u001b[0m\n\u001b[0;32m   2325\u001b[0m             \u001b[0mpickle_module\u001b[0m\u001b[1;33m.\u001b[0m\u001b[0mdump\u001b[0m\u001b[1;33m(\u001b[0m\u001b[0mD\u001b[0m\u001b[1;33m,\u001b[0m \u001b[0mfp\u001b[0m\u001b[1;33m)\u001b[0m\u001b[1;33m\u001b[0m\u001b[1;33m\u001b[0m\u001b[0m\n\u001b[1;32m-> 2326\u001b[1;33m         \u001b[0mos\u001b[0m\u001b[1;33m.\u001b[0m\u001b[0mrename\u001b[0m\u001b[1;33m(\u001b[0m\u001b[0mtmp_fname\u001b[0m\u001b[1;33m,\u001b[0m \u001b[0mfname\u001b[0m\u001b[1;33m)\u001b[0m\u001b[1;33m\u001b[0m\u001b[1;33m\u001b[0m\u001b[0m\n\u001b[0m\u001b[0;32m   2327\u001b[0m     \u001b[1;32mexcept\u001b[0m\u001b[1;33m:\u001b[0m  \u001b[1;31m# noqa\u001b[0m\u001b[1;33m\u001b[0m\u001b[1;33m\u001b[0m\u001b[0m\n\u001b[0;32m   2328\u001b[0m         \u001b[1;32mtry\u001b[0m\u001b[1;33m:\u001b[0m\u001b[1;33m\u001b[0m\u001b[1;33m\u001b[0m\u001b[0m\n",
      "\u001b[1;31mFileExistsError\u001b[0m: [WinError 183] Cannot create a file when that file already exists: 'C:\\\\Users\\\\Dhruv\\\\AppData\\\\Local\\\\Temp\\\\tmp3gq0e4ol\\\\savestate.save.tmp' -> 'C:\\\\Users\\\\Dhruv\\\\AppData\\\\Local\\\\Temp\\\\tmp3gq0e4ol\\\\savestate.save'"
     ]
    }
   ],
   "source": [
    "# fitting\n",
    "\n",
    "solver = al.PointSolver(\n",
    "    grid=grid,\n",
    "    pixel_scale_precision=0.001,\n",
    "#     upscale_factor=2,\n",
    ")\n",
    "\n",
    "print(grid.pixel_scale)\n",
    "\n",
    "analysis = al.AnalysisPoint(point_dict=point_dict, solver=solver)\n",
    "\n",
    "run_time_dict, info_dict = analysis.profile_log_likelihood_function(\n",
    "    instance=model.random_instance()\n",
    ")\n",
    "\n",
    "print(f\"Log Likelihood Evaluation Time (second) = {run_time_dict['fit_time']}\")\n",
    "\n",
    "search = af.DynestyStatic(name=\"point_sourceChi_01\", number_of_cores=1)\n",
    "\n",
    "result = search.fit(model=model, analysis=analysis)"
   ]
  }
 ],
 "metadata": {
  "kernelspec": {
   "display_name": "Python 3",
   "language": "python",
   "name": "python3"
  },
  "language_info": {
   "codemirror_mode": {
    "name": "ipython",
    "version": 3
   },
   "file_extension": ".py",
   "mimetype": "text/x-python",
   "name": "python",
   "nbconvert_exporter": "python",
   "pygments_lexer": "ipython3",
   "version": "3.8.8"
  }
 },
 "nbformat": 4,
 "nbformat_minor": 5
}
